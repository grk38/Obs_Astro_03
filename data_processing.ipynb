{
 "cells": [
  {
   "cell_type": "code",
   "execution_count": 1,
   "metadata": {},
   "outputs": [],
   "source": [
    "import numpy as np  \n",
    "import os \n",
    "from matplotlib import pyplot as plt \n",
    "import math\n",
    "\n",
    "currentDir = os.getcwd()\n",
    "firstPath = os.path.join(currentDir,\"dataFirstMethod.txt\")\n",
    "secondPath = os.path.join(currentDir,'dataSecondMethod.txt')"
   ]
  },
  {
   "cell_type": "code",
   "execution_count": 2,
   "metadata": {},
   "outputs": [],
   "source": [
    "def convertNumbersRA(inputString):\n",
    "    prescalers = [15,15/60,15/3600] # Make them degrees, arcminutes,arcseconds\n",
    "    finalDegree = 0\n",
    "    for time, number in zip(inputString,prescalers):\n",
    "        finalDegree += float(time)*number\n",
    "    return finalDegree\n",
    "\n",
    "def convertNumbersDELTA(inputString):\n",
    "    prescalers = [1,1/60,1/3600] # Make them degrees, arcminutes,arcseconds\n",
    "    finalDegree = 0\n",
    "    for time, number in zip(inputString,prescalers):\n",
    "        finalDegree += float(time)*number\n",
    "    return finalDegree"
   ]
  },
  {
   "cell_type": "code",
   "execution_count": 3,
   "metadata": {},
   "outputs": [],
   "source": [
    "firstMethodData = {\"NAME\":[],\"RA\":[],\"DELTA\":[]}\n",
    "secondMethodData = {\n",
    "    'PARALLAX' : [],\n",
    "    'PARALLAX_ERROR' : [],\n",
    "    'VELOCITY' : [],\n",
    "    'VELOCITY_ERROR' : [],\n",
    "    'MU_A_COS(DELTA)' : [],\n",
    "    'MU_A_COS(DELTA)_ERROR' : [],\n",
    "    'MU_DELTA' : [],\n",
    "    'MU_DELTA_ERROR' : []\n",
    "}\n",
    "keysArray = ['PARALLAX',\n",
    "    'PARALLAX_ERROR',\n",
    "    'VELOCITY',\n",
    "    'VELOCITY_ERROR', \n",
    "    'MU_A_COS(DELTA)',\n",
    "    'MU_A_COS(DELTA)_ERROR',\n",
    "    'MU_DELTA' ,\n",
    "    'MU_DELTA_ERROR']\n",
    "\n",
    "with open(firstPath, 'r') as file:\n",
    "    line = file.readline()\n",
    "    while line:\n",
    "        currentLine = line.strip(\"\\n\").split(\" \")\n",
    "        RAString, DELTAString = currentLine[1:4] , currentLine[4:7] #Make all the angles into degrees\n",
    "        firstMethodData[\"NAME\"].append(currentLine[0])\n",
    "        firstMethodData[\"RA\"].append(convertNumbersRA(RAString))\n",
    "        firstMethodData[\"DELTA\"].append(convertNumbersDELTA(DELTAString))\n",
    "        line = file.readline()\n",
    "        \n",
    "with open(secondPath, 'r') as file:\n",
    "    for line in file:\n",
    "        currentLine = line.strip(\"\\n\").split(\" \")[1::] #Clear the line by ignoring the first elements that correspond to the name\n",
    "        #print(currentLine)\n",
    "        for index, value in enumerate(currentLine):\n",
    "            trueValue,trueError = value.split('Â±')\n",
    "            keyIdValue,keyIdError = keysArray[index*2],keysArray[index*2+1]\n",
    "            #print(value,trueValue, trueError)\n",
    "            secondMethodData[keyIdValue].append(float(trueValue))\n",
    "            secondMethodData[keyIdError].append(float(trueError))\n",
    "            \n",
    "for keyToPop in keysArray[2::]:\n",
    "    firstMethodData[keyToPop] = secondMethodData.pop(keyToPop)\n",
    "secondMethodData['NAME'] = firstMethodData['NAME']\n"
   ]
  },
  {
   "cell_type": "code",
   "execution_count": 4,
   "metadata": {},
   "outputs": [],
   "source": [
    "#The formula for finding the difference between a star (alpha,delta) and the convergent point(alpha_conv,delta_conv) is:\n",
    "#cos(theta) = sin(delta)*sin(delta_c)+cos(delta)*cos(delta_c)*cos(alpha-alpha_conv)\n",
    "def findAngleTheta(alpha,delta): #Takes as arguments the RA and DELTA values of the dict row and returns the assigned THETA angle in degrees\n",
    "    alpha_conv,delta_conv = 96.6, 5.8\n",
    "    degreeToRadians = math.pi/180\n",
    "    part1 = math.sin(delta*degreeToRadians)*math.sin(delta_conv*degreeToRadians)\n",
    "    part2 = math.cos(delta*degreeToRadians)*math.cos(delta_conv*degreeToRadians)*math.cos((alpha-alpha_conv)*degreeToRadians)\n",
    "    return math.acos(part1 + part2)/degreeToRadians\n",
    "\n",
    "def addThetaAngleColumn(dictionary): #Takes the dictionary of data and returns the array of all the THETA angles in degrees\n",
    "    if 'THETA' in dictionary:\n",
    "        return dictionary['THETA']\n",
    "    deltaArray,alphaArray = dictionary['DELTA'],dictionary['RA']\n",
    "    thetaArray = []\n",
    "    for alpha,delta in zip(alphaArray,deltaArray):\n",
    "        thetaArray.append(findAngleTheta(alpha,delta))\n",
    "    return thetaArray\n",
    "\n",
    "def addTheMuColumn(dictionary):\n",
    "    if 'MU' in dictionary:\n",
    "        return dictionary['MU']\n",
    "    MU_DELTA, MU_A_COS = dictionary['MU_DELTA'], dictionary['MU_A_COS(DELTA)']\n",
    "    MuArray = []\n",
    "    for muDelta,muA in zip(MU_DELTA,MU_A_COS):\n",
    "        MuArray.append(math.sqrt(muDelta**2 + muA**2))\n",
    "    return MuArray   \n",
    "\n",
    "def addTheDistanceColumn(dictionary):\n",
    "    if 'DISTANCE' in dictionary:\n",
    "        return dictionary['DISTANCE']\n",
    "    thetaArray,muArray,velocityArray = dictionary['THETA'], dictionary['MU'], dictionary['VELOCITY']\n",
    "    degreeToRadians = math.pi/180\n",
    "    distanceArray = []\n",
    "    for theta,mu,velocity in zip(thetaArray,muArray,velocityArray):\n",
    "        distanceArray.append(1000*velocity*math.tan(theta*degreeToRadians)/(4.74*mu))\n",
    "    return distanceArray\n",
    "\n",
    "def addTheErrorColumn(dictionary):\n",
    "    if 'ERROR_DISTANCE' in dictionary:\n",
    "        return dictionary['ERROR_DISTANCE']\n",
    "    xArray,errorxArray,yArray,erroryArray,muArray = dictionary['MU_A_COS(DELTA)'],dictionary['MU_A_COS(DELTA)_ERROR'],dictionary['MU_DELTA'],dictionary['MU_DELTA_ERROR'],dictionary['MU']\n",
    "    muErrorArray,distanceErrorArray = [], []\n",
    "    #Finding the mu error\n",
    "    for x,errx,y,erry,mu in zip(xArray,errorxArray,yArray,erroryArray,muArray):\n",
    "        muErrorArray.append(math.sqrt((x*errx)**2+(y*erry)**2)/mu)\n",
    "    velArray,distanceArray,velocityErrorArray = dictionary['VELOCITY'], dictionary['DISTANCE'],dictionary['VELOCITY_ERROR']\n",
    "    #Total error for second error\n",
    "    for vel,velerr,mu,muerr,r in zip(velArray,velocityErrorArray,muArray,muErrorArray,distanceArray):\n",
    "        distanceErrorArray.append(r*math.sqrt((velerr/vel)**2+(muerr/mu)**2))\n",
    "    return distanceErrorArray\n",
    "    "
   ]
  },
  {
   "cell_type": "code",
   "execution_count": 5,
   "metadata": {},
   "outputs": [],
   "source": [
    "firstMethodData.update({'THETA': addThetaAngleColumn(firstMethodData)})\n",
    "firstMethodData.update({'MU': addTheMuColumn(firstMethodData)})\n",
    "firstMethodData.update({'DISTANCE': addTheDistanceColumn(firstMethodData)})\n",
    "firstMethodData.update({'DISTANCE_ERROR':addTheErrorColumn(firstMethodData)})"
   ]
  },
  {
   "cell_type": "code",
   "execution_count": 18,
   "metadata": {},
   "outputs": [
    {
     "data": {
      "text/plain": [
       "dict_keys(['NAME', 'RA', 'DELTA', 'VELOCITY', 'VELOCITY_ERROR', 'MU_A_COS(DELTA)', 'MU_A_COS(DELTA)_ERROR', 'MU_DELTA', 'MU_DELTA_ERROR', 'THETA', 'MU', 'DISTANCE', 'DISTANCE_ERROR'])"
      ]
     },
     "execution_count": 18,
     "metadata": {},
     "output_type": "execute_result"
    }
   ],
   "source": [
    "firstMethodData.keys()"
   ]
  },
  {
   "cell_type": "code",
   "execution_count": 21,
   "metadata": {},
   "outputs": [
    {
     "name": "stdout",
     "output_type": "stream",
     "text": [
      "13834 44.521166666666666 20.668805555555558 52.57330140110175\n",
      "14838 47.906958333333336 19.726694444444444 49.28602404708215\n",
      "18170 58.2915 17.327166666666667 39.16433036514141\n",
      "18735 60.202875 18.194055555555554 37.59716778285854\n",
      "19554 62.83416666666667 5.523027777777778 33.59733286808986\n",
      "20205 64.94804166666667 15.627694444444446 32.56204379434104\n",
      "20261 65.151 15.095500000000001 32.245657434729075\n",
      "20400 65.514375 14.07725 31.678814240872647\n",
      "20455 65.73345833333333 17.542583333333337 32.35860486247454\n",
      "20542 66.02370833333333 17.444222222222223 32.06500463539908\n",
      "20635 66.34208333333333 22.293972222222223 33.54580216833866\n",
      "20711 66.576625 22.813694444444444 33.572569114687404\n",
      "20713 66.586125 15.618333333333334 31.03304691382793\n",
      "20842 67.003 21.62 32.70706781152692\n",
      "20885 67.14345833333333 15.962222222222222 30.60904757782889\n",
      "20889 67.153875 19.18052777777778 31.628231361701783\n",
      "20894 67.16529166666666 15.870944444444445 30.563679413135116\n",
      "20901 67.20875 13.047638888888889 29.85778486753339\n",
      "21029 67.639875 16.194083333333335 30.21727065005961\n",
      "21036 67.65541666666667 13.724444444444444 29.57311271005061\n",
      "21039 67.66179166666667 15.691944444444445 30.055075003541024\n",
      "21137 67.965375 15.851638888888889 29.819329979781838\n",
      "21152 68.01975 5.4100277777777785 28.443336381763675\n",
      "21459 69.121125 23.34097222222222 31.73981914710034\n",
      "21589 69.53916666666667 12.510861111111112 27.523774122282788\n",
      "21683 69.81854166666666 15.918027777777777 28.137194767945214\n",
      "22044 71.107375 11.146166666666666 25.760828731503143\n",
      "22157 71.50708333333333 11.70561111111111 25.4780848862336\n",
      "22176 71.56991666666667 18.734861111111112 27.607578942641553\n",
      "22203 71.626375 15.472111111111111 26.34512266634055\n",
      "22565 72.843375 18.839944444444445 26.564923784551784\n",
      "22850 73.743 19.485444444444447 26.108449226777942\n",
      "23497 75.77375 21.590055555555555 25.601241439856487\n",
      "23983 77.33166666666666 9.829611111111111 19.50433483049131\n",
      "24019 77.43775 28.03061111111111 28.716092889998734\n"
     ]
    }
   ],
   "source": [
    "for index in range(len(firstMethodData['NAME'])):\n",
    "    print(firstMethodData['NAME'][index], firstMethodData['RA'][index],firstMethodData['DELTA'][index], firstMethodData['THETA'][index])"
   ]
  },
  {
   "cell_type": "code",
   "execution_count": 6,
   "metadata": {},
   "outputs": [],
   "source": [
    "def addSecondMethodDistance(dictionary): \n",
    "    if 'DISTANCE' in dictionary:\n",
    "        return dictionary['DISTANCE']\n",
    "    distanceArray,parallaxArray = [], dictionary['PARALLAX']\n",
    "    for par in parallaxArray:\n",
    "        distanceArray.append(1000/par)\n",
    "    return distanceArray  \n",
    "\n",
    "def addSecondMethodDistanceError(dictionary):\n",
    "    if 'DISTANCE_ERROR' in dictionary:\n",
    "        return dictionary['DISTANCE_ERROR']\n",
    "    parallaxArray, parallaxErrorArray,distanceArray = dictionary['PARALLAX'],dictionary['PARALLAX_ERROR'],dictionary['DISTANCE']\n",
    "    distanceErrorArray = []\n",
    "    for par,parerror,dis in zip(parallaxArray, parallaxErrorArray,distanceArray):\n",
    "        distanceErrorArray.append(dis*parerror/par)\n",
    "    return distanceErrorArray\n",
    "    "
   ]
  },
  {
   "cell_type": "code",
   "execution_count": 7,
   "metadata": {},
   "outputs": [],
   "source": [
    "secondMethodData.update({'DISTANCE': addSecondMethodDistance(secondMethodData)})\n",
    "secondMethodData.update({'DISTANCE_ERROR': addSecondMethodDistanceError(secondMethodData)})"
   ]
  },
  {
   "cell_type": "code",
   "execution_count": 8,
   "metadata": {},
   "outputs": [],
   "source": [
    "def clearData(dictionaryFirstMethod,dictionarySecondMethod):\n",
    "    threshold,center = 10 ,46.34\n",
    "    totalData = {\n",
    "        'NAME':[],\n",
    "        'DISTANCE_FIRST':[],\n",
    "        'DISTANCE_FIRST_ERROR':[],\n",
    "        'DISTANCE_SECOND':[],\n",
    "        'DISTANCE_SECOND_ERROR' : []\n",
    "        }\n",
    "    distArray1,distArray2 = dictionaryFirstMethod['DISTANCE'],dictionarySecondMethod['DISTANCE']\n",
    "    for index, (starDist,starDist2) in enumerate(zip(distArray1,distArray2)):\n",
    "        if (abs(starDist - center) < threshold) and (abs(starDist2 - center) < threshold): # we will require that by both methods the stars are in the center, as otherwise it will be unwise\n",
    "            totalData['NAME'].append(dictionaryFirstMethod['NAME'][index])\n",
    "            totalData['DISTANCE_FIRST'].append(dictionaryFirstMethod['DISTANCE'][index])\n",
    "            totalData['DISTANCE_FIRST_ERROR'].append(dictionaryFirstMethod['DISTANCE_ERROR'][index])\n",
    "            totalData['DISTANCE_SECOND'].append(dictionarySecondMethod['DISTANCE'][index])\n",
    "            totalData['DISTANCE_SECOND_ERROR'].append(dictionarySecondMethod['DISTANCE_ERROR'][index])\n",
    "    return totalData\n",
    "\n",
    "def addDifferenceColumn(dictionary):\n",
    "    if 'DIFFERENCE' in dictionary:\n",
    "        return dictionary\n",
    "    differenceArray, diffErrorArray = [], []\n",
    "    dis1Array,dis2Array, err1Array, err2Array = dictionary['DISTANCE_FIRST'],dictionary['DISTANCE_SECOND'],dictionary['DISTANCE_FIRST_ERROR'],dictionary['DISTANCE_SECOND_ERROR']\n",
    "    for dis1,dis2,err1,err2 in zip(dis1Array,dis2Array, err1Array, err2Array):\n",
    "        differenceArray.append(dis1-dis2)\n",
    "        diffErrorArray.append(err1+err2)\n",
    "    return {'DIFFERENCE': differenceArray,'DIFFERENCE_ERROR': diffErrorArray}\n",
    "\n",
    "def calculateAverage(valueArray,valueErrorArray,name):\n",
    "    valueAverage, valueErrorAverage, size = 0, 0, len(valueArray)\n",
    "    for val,err in zip(valueArray,valueErrorArray):\n",
    "        valueAverage += val \n",
    "        valueErrorAverage += err\n",
    "    print(f'The mean distance to the cluster using the '+ name +f\" method is {valueAverage/size} ± {valueErrorAverage/size} pc\")\n",
    "    pass\n",
    "    # return valueAverage/size, valueErrorAverage/size"
   ]
  },
  {
   "cell_type": "code",
   "execution_count": 9,
   "metadata": {},
   "outputs": [],
   "source": [
    "totalData = clearData(firstMethodData,secondMethodData)\n",
    "totalData.update(addDifferenceColumn(totalData))"
   ]
  },
  {
   "cell_type": "code",
   "execution_count": 10,
   "metadata": {},
   "outputs": [
    {
     "name": "stdout",
     "output_type": "stream",
     "text": [
      "The mean distance to the cluster using the first method is 44.45568396271792 ± 1.8275206846673697 pc\n",
      "The mean distance to the cluster using the second method is 47.02007207663225 ± 2.0167075725224954 pc\n"
     ]
    }
   ],
   "source": [
    "calculateAverage(totalData[\"DISTANCE_FIRST\"],totalData['DISTANCE_FIRST_ERROR'],'first')\n",
    "calculateAverage(totalData[\"DISTANCE_SECOND\"],totalData['DISTANCE_SECOND_ERROR'],'second')"
   ]
  },
  {
   "cell_type": "code",
   "execution_count": 11,
   "metadata": {},
   "outputs": [],
   "source": [
    "RaArray, DeltaArray = [] , []\n",
    "distance,distanceError = totalData['DISTANCE_FIRST'],totalData['DISTANCE_FIRST_ERROR']\n",
    "\n",
    "for index, element1 in enumerate(firstMethodData['NAME']):\n",
    "    for element in totalData['NAME']:\n",
    "        if element1 == element:\n",
    "            RaArray.append(firstMethodData['RA'][index])\n",
    "            DeltaArray.append(firstMethodData['DELTA'][index])\n",
    "            break "
   ]
  },
  {
   "cell_type": "code",
   "execution_count": 12,
   "metadata": {},
   "outputs": [],
   "source": [
    "def plot_points_and_circles(x, y, dis,error):\n",
    "    fig, ax = plt.subplots()\n",
    "    ax.set_aspect('equal', 'box')\n",
    "    \n",
    "    for i in range(len(x)):\n",
    "        ax.plot(x[i], y[i]) \n",
    "        circle = plt.Circle((x[i], y[i]), dis[i]/100, color='white', fill=True)  #add the circles with the error bars\n",
    "        errorCircle = plt.Circle((x[i],y[i]),dis[i]/75 + error[i]/5,color='r',fill=False)\n",
    "        ax.add_artist(circle) \n",
    "        ax.add_artist(errorCircle)\n",
    "\n",
    "    plt.xlabel('Right Ascension(degrees)')\n",
    "    ax.invert_xaxis() #For convention, as Ra goes right to left\n",
    "    plt.ylabel('Delta(degrees)')\n",
    "    plt.title('The Hyades in the sky')\n",
    "    plt.grid(True)\n",
    "    plt.show()"
   ]
  },
  {
   "cell_type": "code",
   "execution_count": 13,
   "metadata": {},
   "outputs": [
    {
     "data": {
      "image/png": "[encoded data removed]",
      "text/plain": [
       "<Figure size 640x480 with 1 Axes>"
      ]
     },
     "metadata": {},
     "output_type": "display_data"
    }
   ],
   "source": [
    "plt.style.use(\"dark_background\")\n",
    "plot_points_and_circles(RaArray,DeltaArray,distance,distanceError)"
   ]
  }
 ],
 "metadata": {
  "kernelspec": {
   "display_name": "base",
   "language": "python",
   "name": "python3"
  },
  "language_info": {
   "codemirror_mode": {
    "name": "ipython",
    "version": 3
   },
   "file_extension": ".py",
   "mimetype": "text/x-python",
   "name": "python",
   "nbconvert_exporter": "python",
   "pygments_lexer": "ipython3",
   "version": "3.12.3"
  }
 },
 "nbformat": 4,
 "nbformat_minor": 2
}
