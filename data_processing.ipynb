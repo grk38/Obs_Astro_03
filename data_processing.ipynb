{
 "cells": [
  {
   "cell_type": "code",
   "execution_count": 77,
   "metadata": {},
   "outputs": [],
   "source": [
    "import numpy as np  \n",
    "import os \n",
    "from matplotlib import pyplot as plt \n",
    "import math\n",
    "\n",
    "currentDir = os.getcwd()\n",
    "firstPath = os.path.join(currentDir,\"dataFirstMethod.txt\")\n",
    "secondPath = os.path.join(currentDir,'dataSecondMethod.txt')"
   ]
  },
  {
   "cell_type": "code",
   "execution_count": 78,
   "metadata": {},
   "outputs": [],
   "source": [
    "def convertNumbersRA(inputString):\n",
    "    prescalers = [15,15/60,15/3600] # Make them degrees, arcminutes,arcseconds\n",
    "    finalDegree = 0\n",
    "    for time, number in zip(inputString,prescalers):\n",
    "        finalDegree += float(time)*number\n",
    "    return finalDegree\n",
    "\n",
    "def convertNumbersDELTA(inputString):\n",
    "    prescalers = [1,1/60,1/3600] # Make them degrees, arcminutes,arcseconds\n",
    "    finalDegree = 0\n",
    "    for time, number in zip(inputString,prescalers):\n",
    "        finalDegree += float(time)*number\n",
    "    return finalDegree"
   ]
  },
  {
   "cell_type": "code",
   "execution_count": 79,
   "metadata": {},
   "outputs": [],
   "source": [
    "firstMethodData = {\"NAME\":[],\"RA\":[],\"DELTA\":[]}\n",
    "secondMethodData = {\n",
    "    'PARALLAX' : [],\n",
    "    'PARALLAX_ERROR' : [],\n",
    "    'VELOCITY' : [],\n",
    "    'VELOCITY_ERROR' : [],\n",
    "    'MU_A_COS(DELTA)' : [],\n",
    "    'MU_A_COS(DELTA)_ERROR' : [],\n",
    "    'MU_DELTA' : [],\n",
    "    'MU_DELTA_ERROR' : []\n",
    "}\n",
    "keysArray = ['PARALLAX',\n",
    "    'PARALLAX_ERROR',\n",
    "    'VELOCITY',\n",
    "    'VELOCITY_ERROR', \n",
    "    'MU_A_COS(DELTA)',\n",
    "    'MU_A_COS(DELTA)_ERROR',\n",
    "    'MU_DELTA' ,\n",
    "    'MU_DELTA_ERROR']\n",
    "\n",
    "with open(firstPath, 'r') as file:\n",
    "    line = file.readline()\n",
    "    while line:\n",
    "        currentLine = line.strip(\"\\n\").split(\" \")\n",
    "        RAString, DELTAString = currentLine[1:4] , currentLine[4:7] #Make all the angles into degrees\n",
    "        firstMethodData[\"NAME\"].append(currentLine[0])\n",
    "        firstMethodData[\"RA\"].append(convertNumbersRA(RAString))\n",
    "        firstMethodData[\"DELTA\"].append(convertNumbersDELTA(DELTAString))\n",
    "        line = file.readline()\n",
    "        \n",
    "with open(secondPath, 'r') as file:\n",
    "    for line in file:\n",
    "        currentLine = line.strip(\"\\n\").split(\" \")[1::] #Clear the line by ignoring the first elements that correspond to the name\n",
    "        #print(currentLine)\n",
    "        for index, value in enumerate(currentLine):\n",
    "            trueValue,trueError = value.split('±')\n",
    "            keyIdValue,keyIdError = keysArray[index*2],keysArray[index*2+1]\n",
    "            secondMethodData[keyIdValue].append(float(trueValue))\n",
    "            secondMethodData[keyIdError].append(float(trueError))\n",
    "            \n",
    "for keyToPop in keysArray[2::]:\n",
    "    firstMethodData[keyToPop] = secondMethodData.pop(keyToPop)\n",
    "secondMethodData['NAME'] = firstMethodData['NAME']\n"
   ]
  },
  {
   "cell_type": "code",
   "execution_count": 80,
   "metadata": {},
   "outputs": [],
   "source": [
    "#The formula for finding the difference between a star (alpha,delta) and the convergent point(alpha_conv,delta_conv) is:\n",
    "#cos(theta) = sin(delta)*sin(delta_c)+cos(delta)*cos(delta_c)*cos(alpha-alpha_conv)\n",
    "def findAngleTheta(alpha,delta): #Takes as arguments the RA and DELTA values of the dict row and returns the assigned THETA angle in degrees\n",
    "    alpha_conv,delta_conv = 96.6, 5.8\n",
    "    degreeToRadians = math.pi/180\n",
    "    part1 = math.sin(delta*degreeToRadians)*math.sin(delta_conv*degreeToRadians)\n",
    "    part2 = math.cos(delta*degreeToRadians)*math.cos(delta_conv*degreeToRadians)*math.cos((alpha-alpha_conv)*degreeToRadians)\n",
    "    return math.acos(part1 + part2)/degreeToRadians\n",
    "\n",
    "def addThetaAngleColumn(dictionary): #Takes the dictionary of data and returns the array of all the THETA angles in degrees\n",
    "    if 'THETA' in dictionary:\n",
    "        return dictionary['THETA']\n",
    "    deltaArray,alphaArray = dictionary['DELTA'],dictionary['RA']\n",
    "    thetaArray = []\n",
    "    for alpha,delta in zip(alphaArray,deltaArray):\n",
    "        thetaArray.append(findAngleTheta(alpha,delta))\n",
    "    return thetaArray\n",
    "\n",
    "def addTheMuColumn(dictionary):\n",
    "    if 'MU' in dictionary:\n",
    "        return dictionary['MU']\n",
    "    MU_DELTA, MU_A_COS = dictionary['MU_DELTA'], dictionary['MU_A_COS(DELTA)']\n",
    "    MuArray = []\n",
    "    for muDelta,muA in zip(MU_DELTA,MU_A_COS):\n",
    "        MuArray.append(math.sqrt(muDelta**2 + muA**2))\n",
    "    return MuArray   \n",
    "\n",
    "def addTheDistanceColumn(dictionary):\n",
    "    if 'DISTANCE' in dictionary:\n",
    "        return dictionary['DISTANCE']\n",
    "    thetaArray,muArray,velocityArray = dictionary['THETA'], dictionary['MU'], dictionary['VELOCITY']\n",
    "    degreeToRadians = math.pi/180\n",
    "    distanceArray = []\n",
    "    for theta,mu,velocity in zip(thetaArray,muArray,velocityArray):\n",
    "        distanceArray.append(1000*velocity*math.tan(theta*degreeToRadians)/(4.74*mu))\n",
    "    return distanceArray\n",
    "\n",
    "def addTheErrorColumn(dictionary):\n",
    "    if 'ERROR_DISTANCE' in dictionary:\n",
    "        return dictionary['ERROR_DISTANCE']\n",
    "    xArray,errorxArray,yArray,erroryArray,muArray = dictionary['MU_A_COS(DELTA)'],dictionary['MU_A_COS(DELTA)_ERROR'],dictionary['MU_DELTA'],dictionary['MU_DELTA_ERROR'],dictionary['MU']\n",
    "    muErrorArray,distanceErrorArray = [], []\n",
    "    for x,errx,y,erry,mu in zip(xArray,errorxArray,yArray,erroryArray,muArray):\n",
    "        muErrorArray.append(math.sqrt((x*errx)**2+(y*erry)**2)/mu)\n",
    "    velArray,distanceArray,velocityErrorArray = dictionary['VELOCITY'], dictionary['DISTANCE'],dictionary['VELOCITY_ERROR']\n",
    "    for vel,velerr,mu,muerr,r in zip(velArray,velocityErrorArray,muArray,muErrorArray,distanceArray):\n",
    "        distanceErrorArray.append(r*math.sqrt((velerr/vel)**2+(muerr/mu)**2))\n",
    "    return distanceErrorArray\n",
    "    "
   ]
  },
  {
   "cell_type": "code",
   "execution_count": 81,
   "metadata": {},
   "outputs": [],
   "source": [
    "firstMethodData.update({'THETA': addThetaAngleColumn(firstMethodData)})\n",
    "firstMethodData.update({'MU': addTheMuColumn(firstMethodData)})\n",
    "firstMethodData.update({'DISTANCE': addTheDistanceColumn(firstMethodData)})\n",
    "firstMethodData.update({'DISTANCE_ERROR':addTheErrorColumn(firstMethodData)})"
   ]
  },
  {
   "cell_type": "code",
   "execution_count": 82,
   "metadata": {},
   "outputs": [],
   "source": [
    "def addSecondMethodDistance(dictionary): \n",
    "    if 'DISTANCE' in dictionary:\n",
    "        return dictionary['DISTANCE']\n",
    "    distanceArray,parallaxArray = [], dictionary['PARALLAX']\n",
    "    for par in parallaxArray:\n",
    "        distanceArray.append(1000/par)\n",
    "    return distanceArray  \n",
    "\n",
    "def addSecondMethodDistanceError(dictionary):\n",
    "    if 'DISTANCE_ERROR' in dictionary:\n",
    "        return dictionary['DISTANCE_ERROR']\n",
    "    parallaxArray, parallaxErrorArray,distanceArray = dictionary['PARALLAX'],dictionary['PARALLAX_ERROR'],dictionary['DISTANCE']\n",
    "    distanceErrorArray = []\n",
    "    for par,parerror,dis in zip(parallaxArray, parallaxErrorArray,distanceArray):\n",
    "        distanceErrorArray.append(par*parerror/dis)\n",
    "    return distanceErrorArray\n",
    "    "
   ]
  },
  {
   "cell_type": "code",
   "execution_count": 83,
   "metadata": {},
   "outputs": [],
   "source": [
    "secondMethodData.update({'DISTANCE': addSecondMethodDistance(secondMethodData)})\n",
    "secondMethodData.update({'DISTANCE_ERROR': addSecondMethodDistanceError(secondMethodData)})"
   ]
  },
  {
   "cell_type": "code",
   "execution_count": 84,
   "metadata": {},
   "outputs": [],
   "source": [
    "def clearData(dictionaryFirstMethod,dictionarySecondMethod):\n",
    "    thresHold,center = 10 ,46.34\n",
    "    totalData = {\n",
    "        'NAME':[],\n",
    "        'DISTANCE_FIRST':[],\n",
    "        'DISTANCE_FIRST_ERROR':[],\n",
    "        'DISTANCE_SECOND':[],\n",
    "        'DISTANCE_SECOND_ERROR' : []\n",
    "        }\n",
    "    distArray = dictionaryFirstMethod['DISTANCE']\n",
    "    for index,starDist in enumerate(distArray):\n",
    "        if (abs(starDist - center) < thresHold):\n",
    "            totalData['NAME'].append(dictionaryFirstMethod['NAME'][index])\n",
    "            totalData['DISTANCE_FIRST'].append(dictionaryFirstMethod['DISTANCE'][index])\n",
    "            totalData['DISTANCE_FIRST_ERROR'].append(dictionaryFirstMethod['DISTANCE_ERROR'][index])\n",
    "            totalData['DISTANCE_SECOND'].append(dictionarySecondMethod['DISTANCE'][index])\n",
    "            totalData['DISTANCE_SECOND_ERROR'].append(dictionarySecondMethod['DISTANCE_ERROR'][index])\n",
    "    return totalData\n"
   ]
  },
  {
   "cell_type": "code",
   "execution_count": 85,
   "metadata": {},
   "outputs": [],
   "source": [
    "totalData = clearData(firstMethodData,secondMethodData)"
   ]
  },
  {
   "cell_type": "code",
   "execution_count": 89,
   "metadata": {},
   "outputs": [
    {
     "name": "stdout",
     "output_type": "stream",
     "text": [
      "14838 39.107610614413005 51.440329218106996\n",
      "18170 40.9020048222674 41.42502071251035\n",
      "18735 38.854267136834224 45.47521600727604\n",
      "20205 44.94890902880092 47.23665564478035\n",
      "20261 43.507543790591804 47.16981132075472\n",
      "20400 42.412913068256664 45.72473708276177\n",
      "20455 47.51629744857027 46.97040864255519\n",
      "20542 45.06187039141562 44.72271914132379\n",
      "20635 47.21723002046411 47.01457451810061\n",
      "20711 42.26942382824494 47.460844803037496\n",
      "20713 43.373743222239035 47.93863854266539\n",
      "20842 47.55534036219393 47.961630695443645\n",
      "20885 47.37529356118704 48.402710551790896\n",
      "20889 45.12621729544459 47.528517110266165\n",
      "20894 43.341932902733035 45.682960255824575\n",
      "20901 45.48097529589755 49.18839153959666\n",
      "21029 46.66856162612917 44.36557231588288\n",
      "21036 42.287867286550224 45.78754578754579\n",
      "21039 45.14830119710423 44.34589800443459\n",
      "21137 38.74319014775086 44.943820224719104\n",
      "21152 39.78641571816683 43.2338953739732\n",
      "21459 46.14636094537459 44.24778761061947\n",
      "21589 47.795566368239356 45.892611289582376\n",
      "21683 47.430246740979385 48.75670404680643\n",
      "22044 40.403986890677466 48.239266763145196\n",
      "22176 48.17679995950167 92.50693802035153\n",
      "22203 46.82086590534784 51.49330587023687\n",
      "22565 45.06779777633959 57.903879559930516\n",
      "23497 47.93547440924264 49.97501249375312\n",
      "23983 51.54074093098507 53.93743257820928\n"
     ]
    }
   ],
   "source": [
    "for name,val1,val2 in zip(totalData['NAME'],totalData['DISTANCE_FIRST'],totalData['DISTANCE_SECOND']):\n",
    "    print(name,val1,val2)"
   ]
  },
  {
   "cell_type": "code",
   "execution_count": null,
   "metadata": {},
   "outputs": [],
   "source": []
  }
 ],
 "metadata": {
  "kernelspec": {
   "display_name": "base",
   "language": "python",
   "name": "python3"
  },
  "language_info": {
   "codemirror_mode": {
    "name": "ipython",
    "version": 3
   },
   "file_extension": ".py",
   "mimetype": "text/x-python",
   "name": "python",
   "nbconvert_exporter": "python",
   "pygments_lexer": "ipython3",
   "version": "3.11.4"
  }
 },
 "nbformat": 4,
 "nbformat_minor": 2
}
